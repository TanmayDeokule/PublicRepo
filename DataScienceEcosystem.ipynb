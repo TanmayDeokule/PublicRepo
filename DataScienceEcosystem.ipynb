{
 "cells": [
  {
   "cell_type": "markdown",
   "id": "91b37a98-ac6b-4987-97a5-14644af45de5",
   "metadata": {},
   "source": [
    "# Data Science Tools and Ecosystem"
   ]
  },
  {
   "cell_type": "markdown",
   "id": "8c1e901d-55fd-4b07-9f47-f35ade07643a",
   "metadata": {},
   "source": [
    "In this notebook, Data Science Tools and Ecosystem are summarized"
   ]
  },
  {
   "cell_type": "markdown",
   "id": "41da1304-94ce-4d9a-800c-13115fa7f913",
   "metadata": {},
   "source": [
    "**Objectives:**\n",
    "\n",
    "•\tIdentify the criteria and roles for determining the language to learn.\n",
    "\n",
    "•\tIdentify the users and benefits of Python.\n",
    "\n",
    "•\tIdentify the users and uses of the R language.\n",
    "\n",
    "•\tDefine SQL elements and list their benefits.\n",
    "\n",
    "•\tReview languages such as Java, Scala, C++, JavaScript, and Julia.\n",
    "\n",
    "•\tList the global communities for connecting with other users.\n"
   ]
  },
  {
   "cell_type": "markdown",
   "id": "f36d199e-35a1-44b0-b8b9-7f0302ca0f0f",
   "metadata": {
    "tags": []
   },
   "source": [
    "Some of the popular languages that Data Scientists use are:\n",
    "\n",
    "    1. Python\n",
    "    2. R\n",
    "    3. Scala"
   ]
  },
  {
   "cell_type": "markdown",
   "id": "8b5368bb-bbd1-4305-91b3-cffed3fd3e5a",
   "metadata": {},
   "source": [
    "Some of the commonly used libraries used by Data Scientists include:\n",
    "\n",
    "    1. Plotly\n",
    "    2. Tensorflow\n",
    "    3. Pandas"
   ]
  },
  {
   "cell_type": "markdown",
   "id": "0921a78b-0693-40eb-91f6-600ab97af977",
   "metadata": {},
   "source": [
    "|  Data Science Tools |\n",
    "|----|\n",
    "| IBM Watson Studio |\n",
    "| Jupyter Labs |\n",
    "| R Studio |"
   ]
  },
  {
   "cell_type": "markdown",
   "id": "77cc83b2-280b-4aa1-b1ce-e4077fb7061b",
   "metadata": {
    "tags": []
   },
   "source": [
    "### Below are a few examples of evaluating arithmetic expressions in Python"
   ]
  },
  {
   "cell_type": "code",
   "execution_count": 4,
   "id": "47367f27-9457-4d79-a484-98615c78e072",
   "metadata": {
    "tags": []
   },
   "outputs": [
    {
     "data": {
      "text/plain": [
       "17"
      ]
     },
     "execution_count": 4,
     "metadata": {},
     "output_type": "execute_result"
    }
   ],
   "source": [
    "#This a simple arithmetic expression to mutiply then add integers\n",
    "(3*4)+5"
   ]
  },
  {
   "cell_type": "code",
   "execution_count": 8,
   "id": "e74d93e0-b71d-4700-914b-594087224c98",
   "metadata": {
    "tags": []
   },
   "outputs": [
    {
     "name": "stdout",
     "output_type": "stream",
     "text": [
      "3.3333333333333335  hrs\n"
     ]
    }
   ],
   "source": [
    "#This will convert 200 minutes to hours by diving by 60.\n",
    "hrs = 200 / 60\n",
    "print(hrs, \" hrs\")"
   ]
  },
  {
   "cell_type": "markdown",
   "id": "40e581e5-d264-4e8f-9f6f-d48ab874311a",
   "metadata": {},
   "source": [
    "## Author:\n",
    "Tanmay Deokule"
   ]
  },
  {
   "cell_type": "code",
   "execution_count": null,
   "id": "6d22d0fa-9213-43c4-b819-58839774280c",
   "metadata": {},
   "outputs": [],
   "source": []
  }
 ],
 "metadata": {
  "kernelspec": {
   "display_name": "Python",
   "language": "python",
   "name": "conda-env-python-py"
  },
  "language_info": {
   "codemirror_mode": {
    "name": "ipython",
    "version": 3
   },
   "file_extension": ".py",
   "mimetype": "text/x-python",
   "name": "python",
   "nbconvert_exporter": "python",
   "pygments_lexer": "ipython3",
   "version": "3.7.12"
  }
 },
 "nbformat": 4,
 "nbformat_minor": 5
}
